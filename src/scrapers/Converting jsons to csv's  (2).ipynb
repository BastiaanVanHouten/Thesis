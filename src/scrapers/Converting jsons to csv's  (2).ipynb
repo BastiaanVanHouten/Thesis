{
 "cells": [
  {
   "cell_type": "code",
   "execution_count": 15,
   "id": "298df75f",
   "metadata": {},
   "outputs": [
    {
     "name": "stdout",
     "output_type": "stream",
     "text": [
      "Successfully combined data into movie_ranks_final.json.\n"
     ]
    }
   ],
   "source": [
    "import json\n",
    "\n",
    "# List of input JSON files\n",
    "input_files = [\n",
    "    \"movie_ranks.json_300\",\n",
    "    \"movie_ranks.json_300_600\",\n",
    "    \"movie_ranks.json_600_900\",\n",
    "]\n",
    "\n",
    "# Initialize an empty list to hold the combined data\n",
    "combined_data = []\n",
    "\n",
    "# Step 1: Read the contents of each JSON file and append to the combined_data list\n",
    "for file_path in input_files:\n",
    "    with open(file_path, \"r\") as file:\n",
    "        # Load each JSON object separately and extend the combined_data list\n",
    "        for line in file:\n",
    "            data = json.loads(line)\n",
    "            combined_data.append(data)\n",
    "\n",
    "# Step 3: Write the combined data into a new JSON file named \"movie_ranks_final.json\"\n",
    "output_file = \"movie_ranks_final.json\"\n",
    "with open(output_file, \"w\") as outfile:\n",
    "    json.dump(combined_data, outfile)\n",
    "\n",
    "print(f\"Successfully combined data into {output_file}.\")\n",
    "\n"
   ]
  },
  {
   "cell_type": "code",
   "execution_count": 16,
   "id": "30438aea",
   "metadata": {},
   "outputs": [
    {
     "name": "stdout",
     "output_type": "stream",
     "text": [
      "Error reading movie_ranks.json_300: Extra data: line 2 column 1 (char 27699)\n",
      "Error reading movie_ranks.json_300_600: Extra data: line 2 column 1 (char 26461)\n",
      "Error reading movie_ranks.json_600_900: Extra data: line 2 column 1 (char 27068)\n",
      "Successfully combined data into movie_ranks_final.json.\n"
     ]
    }
   ],
   "source": [
    "import json\n",
    "\n",
    "# List of input JSON files\n",
    "input_files = [\n",
    "    \"movie_ranks.json_300\",\n",
    "    \"movie_ranks.json_300_600\",\n",
    "    \"movie_ranks.json_600_900\",\n",
    "]\n",
    "\n",
    "# Initialize an empty list to hold the combined data\n",
    "combined_data = []\n",
    "\n",
    "# Step 1: Read the contents of each JSON file and append to the combined_data list\n",
    "for file_path in input_files:\n",
    "    with open(file_path, \"r\") as file:\n",
    "        # Load each JSON object separately and extend the combined_data list\n",
    "        try:\n",
    "            data = json.load(file)\n",
    "            combined_data.append(data)\n",
    "        except Exception as e:\n",
    "            print(f\"Error reading {file_path}: {e}\")\n",
    "\n",
    "# Step 3: Write the combined data into a new JSON file named \"movie_ranks_final.json\"\n",
    "output_file = \"movie_ranks_final.json\"\n",
    "with open(output_file, \"w\") as outfile:\n",
    "    json.dump(combined_data, outfile)\n",
    "\n",
    "print(f\"Successfully combined data into {output_file}.\")\n"
   ]
  },
  {
   "cell_type": "code",
   "execution_count": 20,
   "id": "d8ce9a74",
   "metadata": {},
   "outputs": [
    {
     "name": "stdout",
     "output_type": "stream",
     "text": [
      "Successfully combined data into movie_ranks_0_900.json.\n"
     ]
    }
   ],
   "source": [
    "import json\n",
    "\n",
    "# List of input JSON files\n",
    "input_files = [\n",
    "    \"movie_ranks.json_300\",\n",
    "    \"movie_ranks.json_300_600\",\n",
    "    \"movie_ranks.json_600_900\",\n",
    "]\n",
    "\n",
    "# Initialize an empty list to hold the combined data\n",
    "combined_data = []\n",
    "\n",
    "# Step 1: Read the contents of each JSON file and append to the combined_data list\n",
    "for file_path in input_files:\n",
    "    with open(file_path, \"r\") as file:\n",
    "        # Load each JSON object separately and extend the combined_data list\n",
    "        for line in file:\n",
    "            data = json.loads(line)\n",
    "            combined_data.append(data)\n",
    "\n",
    "# Step 3: Write the combined data into a new JSON file named \"movie_ranks_final.json\"\n",
    "output_file = \"movie_ranks_0_900.json\"\n",
    "with open(output_file, \"w\") as outfile:\n",
    "    json.dump(combined_data, outfile)\n",
    "\n",
    "print(f\"Successfully combined data into {output_file}.\")\n"
   ]
  },
  {
   "cell_type": "code",
   "execution_count": 18,
   "id": "57921643",
   "metadata": {},
   "outputs": [
    {
     "name": "stdout",
     "output_type": "stream",
     "text": [
      "Successfully combined data into movie_ranks_900_3000.json.\n"
     ]
    }
   ],
   "source": [
    "import json\n",
    "\n",
    "# List of input JSON files\n",
    "input_files = [\n",
    "    \"movie_ranks.json_900_1600\",\n",
    "    \"movie_ranks.json_1600_2300\",\n",
    "    \"movie_ranks.json_2300_3000\",\n",
    "]\n",
    "\n",
    "# Initialize an empty list to hold the combined data\n",
    "combined_data = []\n",
    "\n",
    "# Step 1: Read the contents of each JSON file and append to the combined_data list\n",
    "for file_path in input_files:\n",
    "    with open(file_path, \"r\") as file:\n",
    "        # Load each JSON object separately and extend the combined_data list\n",
    "        for line in file:\n",
    "            data = json.loads(line)\n",
    "            combined_data.append(data)\n",
    "\n",
    "# Step 3: Write the combined data into a new JSON file named \"movie_ranks_final.json\"\n",
    "output_file = \"movie_ranks_900_3000.json\"\n",
    "with open(output_file, \"w\") as outfile:\n",
    "    json.dump(combined_data, outfile)\n",
    "\n",
    "print(f\"Successfully combined data into {output_file}.\")"
   ]
  },
  {
   "cell_type": "markdown",
   "id": "73b7ef7f",
   "metadata": {},
   "source": [
    "# Converted movie_ranks 0-900"
   ]
  },
  {
   "cell_type": "code",
   "execution_count": 30,
   "id": "91a14ca2",
   "metadata": {},
   "outputs": [
    {
     "name": "stdout",
     "output_type": "stream",
     "text": [
      "Successfully converted data into movie_ranks_0_900.csv.\n"
     ]
    }
   ],
   "source": [
    "import json\n",
    "import csv\n",
    "import pandas as pd\n",
    "\n",
    "# Load data from the JSON file\n",
    "with open(\"movie_ranks_0_900.json\", \"r\") as json_file:\n",
    "    data = json.load(json_file)\n",
    "\n",
    "# Prepare data for CSV conversion\n",
    "csv_data = []\n",
    "for entry in data:\n",
    "    for movie_id, ranks in entry.items():\n",
    "        csv_row = {\"movie_id\": movie_id}\n",
    "        for date, rank in ranks.items():\n",
    "            csv_row[date] = rank\n",
    "        csv_data.append(csv_row)\n",
    "\n",
    "# Write data to a CSV file\n",
    "output_file = \"movie_ranks_0_900.csv\"\n",
    "with open(output_file, \"w\", newline=\"\") as csvfile:\n",
    "    fieldnames = [\"movie_id\"] + sorted(list(set(date for row in csv_data for date in row.keys() if date != \"movie_id\")))\n",
    "    writer = csv.DictWriter(csvfile, fieldnames=fieldnames)\n",
    "\n",
    "    writer.writeheader()\n",
    "    writer.writerows(csv_data)\n",
    "\n",
    "print(f\"Successfully converted data into {output_file}.\")\n",
    "\n"
   ]
  },
  {
   "cell_type": "markdown",
   "id": "8274ffdb",
   "metadata": {},
   "source": [
    "# Converted movie_ranks 900-3000"
   ]
  },
  {
   "cell_type": "code",
   "execution_count": 24,
   "id": "df58778e",
   "metadata": {},
   "outputs": [
    {
     "name": "stdout",
     "output_type": "stream",
     "text": [
      "Successfully converted data into movie_ranks_900_3000.csv.\n"
     ]
    }
   ],
   "source": [
    "import json\n",
    "import csv\n",
    "import pandas as pd\n",
    "\n",
    "# Load data from the JSON file\n",
    "with open(\"movie_ranks_900_3000.json\", \"r\") as json_file:\n",
    "    data = json.load(json_file)\n",
    "\n",
    "# Prepare data for CSV conversion\n",
    "csv_data = []\n",
    "for entry in data:\n",
    "    for movie_id, ranks in entry.items():\n",
    "        csv_row = {\"movie_id\": movie_id}\n",
    "        for date, rank in ranks.items():\n",
    "            csv_row[date] = rank\n",
    "        csv_data.append(csv_row)\n",
    "\n",
    "# Write data to a CSV file\n",
    "output_file = \"movie_ranks_0_3000.csv\"\n",
    "with open(output_file, \"w\", newline=\"\") as csvfile:\n",
    "    fieldnames = [\"movie_id\"] + sorted(list(set(date for row in csv_data for date in row.keys() if date != \"movie_id\")))\n",
    "    writer = csv.DictWriter(csvfile, fieldnames=fieldnames)\n",
    "\n",
    "    writer.writeheader()\n",
    "    writer.writerows(csv_data)\n",
    "\n",
    "print(f\"Successfully converted data into {output_file}.\")\n",
    "\n"
   ]
  },
  {
   "cell_type": "markdown",
   "id": "57680e00",
   "metadata": {},
   "source": [
    "# Converted movie_ranks 3000-4660"
   ]
  },
  {
   "cell_type": "code",
   "execution_count": 27,
   "id": "9b2867af",
   "metadata": {},
   "outputs": [
    {
     "name": "stdout",
     "output_type": "stream",
     "text": [
      "Successfully converted data into movie_ranks_3000_4660.csv.\n"
     ]
    }
   ],
   "source": [
    "import json\n",
    "import csv\n",
    "import pandas as pd\n",
    "\n",
    "# Load data from the JSON file\n",
    "input_file = \"movie_ranks.json_3000_4660\"\n",
    "with open(input_file, \"r\") as json_file:\n",
    "    # Read each line and load it as a separate JSON object\n",
    "    data = [json.loads(line) for line in json_file]\n",
    "\n",
    "# Prepare data for CSV conversion\n",
    "csv_data = []\n",
    "for entry in data:\n",
    "    for movie_id, ranks in entry.items():\n",
    "        csv_row = {\"movie_id\": movie_id}\n",
    "        for date, rank in ranks.items():\n",
    "            csv_row[date] = rank\n",
    "        csv_data.append(csv_row)\n",
    "\n",
    "# Write data to a CSV file\n",
    "output_file = \"movie_ranks_3000_4660.csv\"\n",
    "with open(output_file, \"w\", newline=\"\") as csvfile:\n",
    "    fieldnames = [\"movie_id\"] + sorted(list(set(date for row in csv_data for date in row.keys() if date != \"movie_id\")))\n",
    "    writer = csv.DictWriter(csvfile, fieldnames=fieldnames)\n",
    "\n",
    "    writer.writeheader()\n",
    "    writer.writerows(csv_data)\n",
    "\n",
    "print(f\"Successfully converted data into {output_file}.\")\n"
   ]
  },
  {
   "cell_type": "markdown",
   "id": "54b8c3b2",
   "metadata": {},
   "source": [
    "# Converted movie_ranks 4660-6660"
   ]
  },
  {
   "cell_type": "code",
   "execution_count": 1,
   "id": "c31bc1fe",
   "metadata": {},
   "outputs": [
    {
     "name": "stdout",
     "output_type": "stream",
     "text": [
      "Successfully converted data into movie_ranks_4660_6660.csv.\n"
     ]
    }
   ],
   "source": [
    "import json\n",
    "import csv\n",
    "import pandas as pd\n",
    "\n",
    "# Load data from the JSON file\n",
    "input_file = \"movie_ranks.json_4660_6660\"\n",
    "with open(input_file, \"r\") as json_file:\n",
    "    # Read each line and load it as a separate JSON object\n",
    "    data = [json.loads(line) for line in json_file]\n",
    "\n",
    "# Prepare data for CSV conversion\n",
    "csv_data = []\n",
    "for entry in data:\n",
    "    for movie_id, ranks in entry.items():\n",
    "        csv_row = {\"movie_id\": movie_id}\n",
    "        for date, rank in ranks.items():\n",
    "            csv_row[date] = rank\n",
    "        csv_data.append(csv_row)\n",
    "\n",
    "# Write data to a CSV file\n",
    "output_file = \"movie_ranks_4660_6660.csv\"\n",
    "with open(output_file, \"w\", newline=\"\") as csvfile:\n",
    "    fieldnames = [\"movie_id\"] + sorted(list(set(date for row in csv_data for date in row.keys() if date != \"movie_id\")))\n",
    "    writer = csv.DictWriter(csvfile, fieldnames=fieldnames)\n",
    "\n",
    "    writer.writeheader()\n",
    "    writer.writerows(csv_data)\n",
    "\n",
    "print(f\"Successfully converted data into {output_file}.\")"
   ]
  },
  {
   "cell_type": "markdown",
   "id": "95c38807",
   "metadata": {},
   "source": [
    "# Converted movie_ranks 6660-8660"
   ]
  },
  {
   "cell_type": "code",
   "execution_count": 2,
   "id": "3ed924da",
   "metadata": {},
   "outputs": [
    {
     "name": "stdout",
     "output_type": "stream",
     "text": [
      "Successfully converted data into movie_ranks_6660_8660.csv.\n"
     ]
    }
   ],
   "source": [
    "import json\n",
    "import csv\n",
    "import pandas as pd\n",
    "\n",
    "# Load data from the JSON file\n",
    "input_file = \"movie_ranks.json_6660_8660\"\n",
    "with open(input_file, \"r\") as json_file:\n",
    "    # Read each line and load it as a separate JSON object\n",
    "    data = [json.loads(line) for line in json_file]\n",
    "\n",
    "# Prepare data for CSV conversion\n",
    "csv_data = []\n",
    "for entry in data:\n",
    "    for movie_id, ranks in entry.items():\n",
    "        csv_row = {\"movie_id\": movie_id}\n",
    "        for date, rank in ranks.items():\n",
    "            csv_row[date] = rank\n",
    "        csv_data.append(csv_row)\n",
    "\n",
    "# Write data to a CSV file\n",
    "output_file = \"movie_ranks_6660_8660.csv\"\n",
    "with open(output_file, \"w\", newline=\"\") as csvfile:\n",
    "    fieldnames = [\"movie_id\"] + sorted(list(set(date for row in csv_data for date in row.keys() if date != \"movie_id\")))\n",
    "    writer = csv.DictWriter(csvfile, fieldnames=fieldnames)\n",
    "\n",
    "    writer.writeheader()\n",
    "    writer.writerows(csv_data)\n",
    "\n",
    "print(f\"Successfully converted data into {output_file}.\")"
   ]
  },
  {
   "cell_type": "markdown",
   "id": "b725e92b",
   "metadata": {},
   "source": [
    "# 900_1600"
   ]
  },
  {
   "cell_type": "code",
   "execution_count": 6,
   "id": "ef24f48a",
   "metadata": {},
   "outputs": [
    {
     "name": "stdout",
     "output_type": "stream",
     "text": [
      "Successfully converted data into movie_ranks_900_1600.csv.\n"
     ]
    }
   ],
   "source": [
    "import json\n",
    "import csv\n",
    "import pandas as pd\n",
    "\n",
    "# Load data from the JSON file\n",
    "with open(\"movie_ranks.json_900_1600\", \"r\") as json_file:\n",
    "    lines = json_file.readlines()\n",
    "\n",
    "# Parse each JSON object separately\n",
    "data_list = []\n",
    "for line in lines:\n",
    "    data = json.loads(line)\n",
    "    data_list.append(data)\n",
    "\n",
    "# Prepare data for CSV conversion\n",
    "csv_data = []\n",
    "for entry in data_list:\n",
    "    for movie_id, ranks in entry.items():\n",
    "        csv_row = {\"movie_id\": movie_id}\n",
    "        for date, rank in ranks.items():\n",
    "            csv_row[date] = rank\n",
    "        csv_data.append(csv_row)\n",
    "\n",
    "# Write data to a CSV file\n",
    "output_file = \"movie_ranks_900_1600.csv\"\n",
    "with open(output_file, \"w\", newline=\"\") as csvfile:\n",
    "    fieldnames = [\"movie_id\"] + sorted(list(set(date for row in csv_data for date in row.keys() if date != \"movie_id\")))\n",
    "    writer = csv.DictWriter(csvfile, fieldnames=fieldnames)\n",
    "\n",
    "    writer.writeheader()\n",
    "    writer.writerows(csv_data)\n",
    "\n",
    "print(f\"Successfully converted data into {output_file}.\")\n"
   ]
  },
  {
   "cell_type": "markdown",
   "id": "3bd42f19",
   "metadata": {},
   "source": [
    "# 1600_2300"
   ]
  },
  {
   "cell_type": "code",
   "execution_count": 7,
   "id": "a2007585",
   "metadata": {},
   "outputs": [
    {
     "name": "stdout",
     "output_type": "stream",
     "text": [
      "Successfully converted data into movie_ranks_1600_2300.csv.\n"
     ]
    }
   ],
   "source": [
    "import json\n",
    "import csv\n",
    "import pandas as pd\n",
    "\n",
    "# Load data from the JSON file\n",
    "with open(\"movie_ranks.json_1600_2300\", \"r\") as json_file:\n",
    "    lines = json_file.readlines()\n",
    "\n",
    "# Parse each JSON object separately\n",
    "data_list = []\n",
    "for line in lines:\n",
    "    data = json.loads(line)\n",
    "    data_list.append(data)\n",
    "\n",
    "# Prepare data for CSV conversion\n",
    "csv_data = []\n",
    "for entry in data_list:\n",
    "    for movie_id, ranks in entry.items():\n",
    "        csv_row = {\"movie_id\": movie_id}\n",
    "        for date, rank in ranks.items():\n",
    "            csv_row[date] = rank\n",
    "        csv_data.append(csv_row)\n",
    "\n",
    "# Write data to a CSV file\n",
    "output_file = \"movie_ranks_1600_2300.csv\"\n",
    "with open(output_file, \"w\", newline=\"\") as csvfile:\n",
    "    fieldnames = [\"movie_id\"] + sorted(list(set(date for row in csv_data for date in row.keys() if date != \"movie_id\")))\n",
    "    writer = csv.DictWriter(csvfile, fieldnames=fieldnames)\n",
    "\n",
    "    writer.writeheader()\n",
    "    writer.writerows(csv_data)\n",
    "\n",
    "print(f\"Successfully converted data into {output_file}.\")"
   ]
  },
  {
   "cell_type": "markdown",
   "id": "7a363c7d",
   "metadata": {},
   "source": [
    "# 2300_3000"
   ]
  },
  {
   "cell_type": "code",
   "execution_count": 8,
   "id": "1adf8db5",
   "metadata": {},
   "outputs": [
    {
     "name": "stdout",
     "output_type": "stream",
     "text": [
      "Successfully converted data into movie_ranks_2300_3000.csv.\n"
     ]
    }
   ],
   "source": [
    "import json\n",
    "import csv\n",
    "import pandas as pd\n",
    "\n",
    "# Load data from the JSON file\n",
    "with open(\"movie_ranks.json_2300_3000\", \"r\") as json_file:\n",
    "    lines = json_file.readlines()\n",
    "\n",
    "# Parse each JSON object separately\n",
    "data_list = []\n",
    "for line in lines:\n",
    "    data = json.loads(line)\n",
    "    data_list.append(data)\n",
    "\n",
    "# Prepare data for CSV conversion\n",
    "csv_data = []\n",
    "for entry in data_list:\n",
    "    for movie_id, ranks in entry.items():\n",
    "        csv_row = {\"movie_id\": movie_id}\n",
    "        for date, rank in ranks.items():\n",
    "            csv_row[date] = rank\n",
    "        csv_data.append(csv_row)\n",
    "\n",
    "# Write data to a CSV file\n",
    "output_file = \"movie_ranks_2300_3000.csv\"\n",
    "with open(output_file, \"w\", newline=\"\") as csvfile:\n",
    "    fieldnames = [\"movie_id\"] + sorted(list(set(date for row in csv_data for date in row.keys() if date != \"movie_id\")))\n",
    "    writer = csv.DictWriter(csvfile, fieldnames=fieldnames)\n",
    "\n",
    "    writer.writeheader()\n",
    "    writer.writerows(csv_data)\n",
    "\n",
    "print(f\"Successfully converted data into {output_file}.\")"
   ]
  },
  {
   "cell_type": "markdown",
   "id": "a14cd675",
   "metadata": {},
   "source": [
    "# 900_3000_1998"
   ]
  },
  {
   "cell_type": "code",
   "execution_count": 9,
   "id": "fd1e4339",
   "metadata": {},
   "outputs": [
    {
     "name": "stdout",
     "output_type": "stream",
     "text": [
      "Successfully converted data into movie_ranks_900_3000_1998-.csv.\n"
     ]
    }
   ],
   "source": [
    "import json\n",
    "import csv\n",
    "import pandas as pd\n",
    "\n",
    "# Load data from the JSON file\n",
    "with open(\"movie_ranks.json_900_3000_1998-\", \"r\") as json_file:\n",
    "    lines = json_file.readlines()\n",
    "\n",
    "# Parse each JSON object separately\n",
    "data_list = []\n",
    "for line in lines:\n",
    "    data = json.loads(line)\n",
    "    data_list.append(data)\n",
    "\n",
    "# Prepare data for CSV conversion\n",
    "csv_data = []\n",
    "for entry in data_list:\n",
    "    for movie_id, ranks in entry.items():\n",
    "        csv_row = {\"movie_id\": movie_id}\n",
    "        for date, rank in ranks.items():\n",
    "            csv_row[date] = rank\n",
    "        csv_data.append(csv_row)\n",
    "\n",
    "# Write data to a CSV file\n",
    "output_file = \"movie_ranks_900_3000_1998-.csv\"\n",
    "with open(output_file, \"w\", newline=\"\") as csvfile:\n",
    "    fieldnames = [\"movie_id\"] + sorted(list(set(date for row in csv_data for date in row.keys() if date != \"movie_id\")))\n",
    "    writer = csv.DictWriter(csvfile, fieldnames=fieldnames)\n",
    "\n",
    "    writer.writeheader()\n",
    "    writer.writerows(csv_data)\n",
    "\n",
    "print(f\"Successfully converted data into {output_file}.\")"
   ]
  },
  {
   "cell_type": "markdown",
   "id": "0ccc9a0f",
   "metadata": {},
   "source": [
    "# Converting movie cast"
   ]
  },
  {
   "cell_type": "code",
   "execution_count": 13,
   "id": "730369af",
   "metadata": {},
   "outputs": [
    {
     "ename": "ValueError",
     "evalue": "not enough values to unpack (expected 2, got 1)",
     "output_type": "error",
     "traceback": [
      "\u001b[1;31m---------------------------------------------------------------------------\u001b[0m",
      "\u001b[1;31mValueError\u001b[0m                                Traceback (most recent call last)",
      "\u001b[1;32m~\\AppData\\Local\\Temp\\ipykernel_12224\\189467460.py\u001b[0m in \u001b[0;36m<module>\u001b[1;34m\u001b[0m\n\u001b[0;32m     18\u001b[0m     \u001b[0mmovie_data\u001b[0m \u001b[1;33m=\u001b[0m \u001b[1;33m{\u001b[0m\u001b[1;33m}\u001b[0m\u001b[1;33m\u001b[0m\u001b[1;33m\u001b[0m\u001b[0m\n\u001b[0;32m     19\u001b[0m     \u001b[1;32mfor\u001b[0m \u001b[0mline\u001b[0m \u001b[1;32min\u001b[0m \u001b[0mlines\u001b[0m\u001b[1;33m:\u001b[0m\u001b[1;33m\u001b[0m\u001b[1;33m\u001b[0m\u001b[0m\n\u001b[1;32m---> 20\u001b[1;33m         \u001b[0mkey\u001b[0m\u001b[1;33m,\u001b[0m \u001b[0mvalue\u001b[0m \u001b[1;33m=\u001b[0m \u001b[0mline\u001b[0m\u001b[1;33m.\u001b[0m\u001b[0msplit\u001b[0m\u001b[1;33m(\u001b[0m\u001b[1;34m\": \"\u001b[0m\u001b[1;33m,\u001b[0m \u001b[1;36m1\u001b[0m\u001b[1;33m)\u001b[0m\u001b[1;33m\u001b[0m\u001b[1;33m\u001b[0m\u001b[0m\n\u001b[0m\u001b[0;32m     21\u001b[0m         \u001b[0mmovie_data\u001b[0m\u001b[1;33m[\u001b[0m\u001b[0mkey\u001b[0m\u001b[1;33m]\u001b[0m \u001b[1;33m=\u001b[0m \u001b[0mvalue\u001b[0m\u001b[1;33m\u001b[0m\u001b[1;33m\u001b[0m\u001b[0m\n\u001b[0;32m     22\u001b[0m \u001b[1;33m\u001b[0m\u001b[0m\n",
      "\u001b[1;31mValueError\u001b[0m: not enough values to unpack (expected 2, got 1)"
     ]
    }
   ],
   "source": [
    "import json\n",
    "\n",
    "# Read the existing file\n",
    "with open('cast_movies_data.json', 'r') as file:\n",
    "    data = file.read()\n",
    "\n",
    "# Split the data by empty lines to separate individual movie entries\n",
    "entries = data.split('\\n\\n')\n",
    "\n",
    "# Convert each entry into a dictionary and collect them in a list\n",
    "movies = []\n",
    "for entry in entries:\n",
    "    # Split each entry by lines and filter out empty lines\n",
    "    lines = entry.split('\\n')\n",
    "    lines = [line.strip() for line in lines if line.strip()]\n",
    "    \n",
    "    # Create a dictionary for each movie entry\n",
    "    movie_data = {}\n",
    "    for line in lines:\n",
    "        key, value = line.split(\": \", 1)\n",
    "        movie_data[key] = value\n",
    "\n",
    "    movies.append(movie_data)\n",
    "\n",
    "# Write the collected movie data back to a new JSON file\n",
    "with open('formatted_movies.json', 'w') as file:\n",
    "    json.dump(movies, file, indent=2)\n",
    "\n",
    "\n"
   ]
  }
 ],
 "metadata": {
  "kernelspec": {
   "display_name": "Python 3 (ipykernel)",
   "language": "python",
   "name": "python3"
  },
  "language_info": {
   "codemirror_mode": {
    "name": "ipython",
    "version": 3
   },
   "file_extension": ".py",
   "mimetype": "text/x-python",
   "name": "python",
   "nbconvert_exporter": "python",
   "pygments_lexer": "ipython3",
   "version": "3.9.13"
  }
 },
 "nbformat": 4,
 "nbformat_minor": 5
}
