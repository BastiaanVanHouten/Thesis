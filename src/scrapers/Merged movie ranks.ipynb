{
 "cells": [
  {
   "cell_type": "code",
   "execution_count": 8,
   "id": "efc49545",
   "metadata": {},
   "outputs": [],
   "source": [
    "import pandas as pd\n",
    "\n",
    "file1_path = 'C:\\\\Users\\\\Bas van Houten\\\\movie_ranks_3000_4660.csv'\n",
    "file2_path = 'C:\\\\Users\\\\Bas van Houten\\\\movie_ranks_4660_6660.csv'\n",
    "file3_path = 'C:\\\\Users\\\\Bas van Houten\\\\movie_ranks_6660_8660.csv'\n",
    "file4_path = 'C:\\\\Users\\\\Bas van Houten\\\\movie_ranks_0_900.csv'\n",
    "\n",
    "\n",
    "df_movie_ranks_3000_4660 = pd.read_csv(file1_path)\n",
    "df_movie_ranks_4600_6660 = pd.read_csv(file2_path)\n",
    "df_movie_ranks_6600_8660 = pd.read_csv(file3_path)\n",
    "df_movie_ranks_0_900 = pd.read_csv(file4_path)\n",
    "\n",
    "# Concatenate (bind rows) the two DataFrames\n",
    "merged_df = pd.concat([df_movie_ranks_3000_4660, df_movie_ranks_4600_6660, df_movie_ranks_0_900  ], ignore_index=True)"
   ]
  },
  {
   "cell_type": "code",
   "execution_count": 12,
   "id": "3f013789",
   "metadata": {},
   "outputs": [
    {
     "name": "stdout",
     "output_type": "stream",
     "text": [
      "Number of rows in merged_df: 5660\n",
      "Merged DataFrame saved to: C:\\Users\\Bas van Houten\\merged_movie_ranks_3000_8660.csv\n"
     ]
    }
   ],
   "source": [
    "import pandas as pd\n",
    "\n",
    "file1_path = 'C:\\\\Users\\\\Bas van Houten\\\\movie_ranks_3000_4660.csv'\n",
    "file2_path = 'C:\\\\Users\\\\Bas van Houten\\\\movie_ranks_4660_6660.csv'\n",
    "file3_path = 'C:\\\\Users\\\\Bas van Houten\\\\movie_ranks_6660_8660.csv'\n",
    "\n",
    "df_movie_ranks_3000_4660 = pd.read_csv(file1_path)\n",
    "df_movie_ranks_4600_6660 = pd.read_csv(file2_path)\n",
    "df_movie_ranks_6600_8660 = pd.read_csv(file3_path)\n",
    "\n",
    "# Concatenate (bind rows) the three DataFrames\n",
    "merged_df = pd.concat([df_movie_ranks_3000_4660, df_movie_ranks_4600_6660, df_movie_ranks_6600_8660], ignore_index=True)\n",
    "\n",
    "# Print the number of rows in the merged DataFrame\n",
    "num_rows = merged_df.shape[0]\n",
    "print(\"Number of rows in merged_df:\", num_rows)\n",
    "\n",
    "\n",
    "# Save the merged DataFrame to a new CSV file\n",
    "output_csv_path = 'C:\\\\Users\\\\Bas van Houten\\\\merged_movie_ranks_3000_8660.csv'\n",
    "merged_df.to_csv(output_csv_path, index=False)\n",
    "\n",
    "print(\"Merged DataFrame saved to:\", output_csv_path)"
   ]
  }
 ],
 "metadata": {
  "kernelspec": {
   "display_name": "Python 3 (ipykernel)",
   "language": "python",
   "name": "python3"
  },
  "language_info": {
   "codemirror_mode": {
    "name": "ipython",
    "version": 3
   },
   "file_extension": ".py",
   "mimetype": "text/x-python",
   "name": "python",
   "nbconvert_exporter": "python",
   "pygments_lexer": "ipython3",
   "version": "3.9.13"
  }
 },
 "nbformat": 4,
 "nbformat_minor": 5
}
